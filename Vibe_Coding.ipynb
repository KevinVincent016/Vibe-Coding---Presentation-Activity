{
  "nbformat": 4,
  "nbformat_minor": 0,
  "metadata": {
    "colab": {
      "provenance": []
    },
    "kernelspec": {
      "name": "python3",
      "display_name": "Python 3"
    },
    "language_info": {
      "name": "python"
    }
  },
  "cells": [
    {
      "cell_type": "markdown",
      "source": [
        "#**Vibe Coding**\n",
        "\n",
        "## Que es el Vibe Coding\n",
        "\n",
        "El Vibe Coding es una metodologia emergente basada en la programación colaborativa con la inteligencia artificial.\n",
        "\n",
        "Se basa principalmente en la idea de seguir un \"flujo\" entre el humano y la intelifencia artificial durante el desarrollo de software, donde el humano aporta la intención, el criterio y el contexto mientras que la IA aporta la generación de codigo, documentacion o ideas e incluso la validación y la optimización.\n",
        "\n",
        "Aunque el Vibe Coding busca usar la inteligencia artificial como una herramienta cercana, no busca que sea la unica que genere valor, en su lugar, se prefiere mantener un dialogo interactivo, creativo y estrategico con la IA durante todas las fases del desarrollo."
      ],
      "metadata": {
        "id": "qrL-oRt4mMdl"
      }
    },
    {
      "cell_type": "markdown",
      "metadata": {
        "id": "ec11f12e"
      },
      "source": [
        "## Ventajas\n",
        "\n",
        "1.  **Acelera la ideación y el prototipado:** La IA puede generar rápidamente ideas, estructuras de código y prototipos iniciales, reduciendo significativamente el tiempo necesario para pasar de un concepto a una implementación básica y funcional.\n",
        "\n",
        "2.  **Permite a los equipos aprender mientras construyen:** Al interactuar con la IA, revisar el código generado y experimentar con diferentes enfoques sugeridos, los desarrolladores pueden descubrir nuevas técnicas, patrones de diseño, funcionalidades de lenguajes o librerías, y comprender mejor cómo se aplican en la práctica.\n",
        "\n",
        "3.  **Reduce la carga cognitiva:** La IA puede encargarse de tareas repetitivas, boilerplate, o de baja complejidad (como escribir tests unitarios básicos o generar código CRUD), liberando a los desarrolladores para que se enfoquen en problemas más complejos, la arquitectura general del sistema, la lógica de negocio crítica y la innovación.\n",
        "\n",
        "4.  **Fomenta la creatividad:** Al recibir sugerencias inesperadas o enfoques alternativos de la IA, los desarrolladores pueden salir de sus patrones habituales de pensamiento, explorar soluciones innovadoras y descubrir nuevas formas de abordar los problemas de programación.\n",
        "\n",
        "5.  **Facilita la documentación:** Las IAs pueden generar documentación inicial para funciones, clases, módulos o incluso APIs completas, basándose en el código y los comentarios existentes. Esto ahorra tiempo y asegura una base sólida para la documentación del proyecto, que luego puede ser refinada por el equipo.\n",
        "\n",
        "6.  **Democratiza el desarrollo:** Puede reducir la barrera de entrada para personas con menos experiencia, permitiéndoles generar código funcional y aprender de él, o para desarrolladores experimentados que trabajan con tecnologías o lenguajes nuevos para ellos.\n",
        "\n",
        "## Desventajas\n",
        "\n",
        "1.  **Riesgo de dependencia excesiva:** Existe la posibilidad de que los desarrolladores se vuelvan demasiado dependientes de la IA para resolver problemas, lo que podría afectar negativamente su capacidad para pensar críticamente, depurar de forma independiente o comprender a fondo los principios subyacentes del código y la arquitectura.\n",
        "\n",
        "2.  **Limitaciones en la comprensión del contexto y la especificidad del proyecto:** Aunque las IAs están mejorando, aún pueden tener dificultades para comprender completamente el contexto específico de un proyecto, sus peculiaridades, los requisitos implícitos, las decisiones de diseño previas o la cultura del equipo. Esto puede llevar a sugerencias o código irrelevante, incorrecto o que no se alinea con la visión general del proyecto.\n",
        "\n",
        "3.  **Resultados variables según la calidad del prompt y del modelo:** La efectividad y precisión del Vibe Coding dependen en gran medida de la habilidad del usuario para formular prompts claros, precisos y detallados, así como de la capacidad, el entrenamiento y la actualización del modelo de IA utilizado. Un prompt pobre o un modelo desactualizado pueden generar resultados de baja calidad.\n",
        "\n",
        "4.  **Posibles errores, código subóptimo o inseguro:** Las IAs pueden generar código con errores lógicos, ineficiencias de rendimiento, vulnerabilidades de seguridad o que no sigue las mejores prácticas de la industria. Es absolutamente crucial que el desarrollador humano revise, valide, pruebe y refactorice siempre el código generado por la IA antes de integrarlo en un proyecto.\n",
        "\n",
        "5.  **Curva de aprendizaje:** Adaptarse a trabajar de manera efectiva con la IA, aprender a formular los prompts adecuados, integrar las herramientas de IA en el flujo de trabajo existente y desarrollar la habilidad de discernir la calidad del código generado puede requerir tiempo y práctica para los desarrolladores y equipos.\n",
        "\n",
        "6.  **Falsa sensación de progreso:** La facilidad para generar grandes cantidades de código rápidamente puede dar una falsa sensación de progreso si ese código no es revisado, probado y validado adecuadamente, llevando a acumulación de deuda técnica."
      ]
    },
    {
      "cell_type": "markdown",
      "source": [
        "# Actividad practica\n",
        "\n",
        "## Objetivo\n",
        "Demostrar cómo se puede desarrollar una aplicación completa con la asistencia de varias IAs, pasando por las fases del ciclo de desarrollo.\n",
        "\n",
        "# Propuesta de aplicación\n",
        "\n",
        "**App: QuickTask - Gestor minimalista de tareas**\n",
        "\n",
        "Permite crear, listar y marcar tareas como completadas.\n",
        "\n",
        "Funcionalidades:\n",
        "\n",
        "- CRUD de tareas (título, descripción, estado)\n",
        "\n",
        "- Interfaz simple (CLI o web mínima)\n",
        "\n",
        "- Persistencia local (SQLite o JSON)\n",
        "\n",
        "- Tests básicos y despliegue (Docker)"
      ],
      "metadata": {
        "id": "kHA9otqQ85jH"
      }
    },
    {
      "cell_type": "markdown",
      "source": [
        "# IAs Recomendadas\n",
        "\n",
        "\n",
        "| Fase | Objetivo  | IAs recomendadas |\n",
        "| -------- | ------ | ------- |\n",
        "| **Levantamiento de requerimientos**        | Traducir ideas en requisitos claros y completos     | **ChatGPT (GPT-5)**, **Claude 3 Opus**, **Gemini 1.5 Pro** |\n",
        "| **Análisis funcional y técnico**           | Evaluar viabilidad, dependencias, restricciones     | **ChatGPT (GPT-5)**, **Claude 3 Opus**, **Copilot Chat**                                               |\n",
        "| **Diagramas UML**                          | Modelar estructura y comportamiento                 | **ChatGPT + Plantuml**, **Lucidchart IA**, **UMLMagician**                     | Tools que interpretan descripciones textuales → UML                                                       |\n",
        "| **Diseño de base de datos y arquitectura** | Proponer esquemas y capas del sistema               | **Claude 3**                                                | Validado en *“LLMs for Database Schema Design” (NeurIPS 2024)*                                            |\n",
        "| **Desarrollo del código**                  | Generar, refinar y documentar código                | **Cursor**, **GitHub Copilot**, **ChatGPT**, **Claude**                 | Varios benchmarks de generación de código (HumanEval+, SWE-Bench)                                         |\n",
        "| **Pruebas unitarias**                      | Generar y ejecutar test cases                       | **Cursor**, **ChatGPT**, **Gemini Assist**, **Claude**                                                       | *“Automated Unit Test Generation with LLMs” (arXiv 2024)*                                                 |\n",
        "| **Despliegue**                             | Crear pipelines, Dockerfiles, infra básica          | **Cursor**, **ChatGPT**, **Claude**                                           | Ejemplos en papers de MLOps/DevOps automation (IEEE 2024)                                                 |\n"
      ],
      "metadata": {
        "id": "Y4q6gbQSJEiH"
      }
    },
    {
      "cell_type": "markdown",
      "source": [
        "# Fases de desarrollo\n",
        "\n",
        "Se desarrollará una app ayudado con la inteligencia artificial.\n",
        "\n",
        "Suguerimos revisar las _IAs Recomendadas_ para elegir a sus ayudantes en el proceso. Pero tambien son libres de elegir la(s) IA(s) de su preferencia y comentar en clase su experiencia."
      ],
      "metadata": {
        "id": "j0Imji3u_mt-"
      }
    },
    {
      "cell_type": "markdown",
      "source": [
        "## 1. Levantamiento de Requerimientos"
      ],
      "metadata": {
        "id": "TdEczdqADHA8"
      }
    },
    {
      "cell_type": "markdown",
      "source": [
        "Prompt sugerido:\n",
        "\n",
        "```txt\n",
        "### Objetivo:\n",
        "Definir los requerimientos funcionales y no funcionales de una aplicación llamada **QuickTask**, un gestor de tareas personales.\n",
        "\n",
        "---\n",
        "\n",
        "**Prompt sugerido:**\n",
        "\n",
        "Actúa como un **ingeniero de requisitos de software** experimentado.\n",
        "\n",
        "Tu tarea es ayudarme a **definir los requerimientos** de una aplicación llamada **QuickTask**, cuyo objetivo es permitir que los usuarios creen, editen y marquen tareas personales como completadas.\n",
        "\n",
        "Sigue esta estructura:\n",
        "\n",
        "1. **Descripción general del sistema.**\n",
        "2. **Actores principales** (por ejemplo: usuario, sistema).\n",
        "3. **Requerimientos funcionales** numerados, claros y verificables.\n",
        "4. **Requerimientos no funcionales** (rendimiento, usabilidad, seguridad, etc.).\n",
        "5. **Criterios de aceptación** para al menos 3 funciones clave.\n",
        "6. **Suposiciones y restricciones** del proyecto.\n",
        "\n",
        "Usa un formato claro en Markdown.  \n",
        "Al final, incluye una breve **lista de riesgos o ambigüedades** detectadas que deban aclararse con el cliente.\n",
        "\n",
        "```\n",
        "\n",
        "$$$$\n",
        "\n",
        "IA Recomendada:\n",
        "1. ChatGPT\n",
        "\n",
        "$$$$\n",
        "\n",
        "**Puedes consultar un paper que analiza el rendimiento de ChatGPT en esta fase de desarrollo:**\n",
        "https://arxiv.org/pdf/2307.07381"
      ],
      "metadata": {
        "id": "EKCJR_Q3XKPt"
      }
    },
    {
      "cell_type": "markdown",
      "source": [
        "## 2. Análisis funcional y técnico\n",
        "\n",
        "Prompt sugerido:\n",
        "\n",
        "```txt\n",
        "### Objetivo:\n",
        "Analizar la viabilidad técnica, los módulos principales y las decisiones tecnológicas de QuickTask.\n",
        "\n",
        "---\n",
        "\n",
        "**Prompt sugerido:**\n",
        "\n",
        "Asume el rol de un **arquitecto de software** encargado de analizar los requerimientos de QuickTask.\n",
        "\n",
        "Tu tarea es producir un análisis **funcional y técnico** que contenga:\n",
        "\n",
        "1. **Resumen funcional:** qué hace la app y cómo interactúan los componentes.\n",
        "2. **Análisis de módulos o componentes** (frontend, backend, base de datos, API, etc.).\n",
        "3. **Tecnologías recomendadas** (frameworks, lenguajes, librerías).\n",
        "4. **Riesgos técnicos y mitigaciones**.\n",
        "5. **Mapa general de dependencias.**\n",
        "6. **Justificación técnica** de las elecciones (por ejemplo, por qué usar Flask en lugar de FastAPI).\n",
        "\n",
        "Entrega la salida en formato Markdown, con encabezados y viñetas.\n",
        "Usa un tono analítico y basado en buenas prácticas de ingeniería.\n",
        "\n",
        "```\n",
        "\n",
        "$$$$\n",
        "\n",
        "IA Recomendada:\n",
        "1. ChatGPT\n"
      ],
      "metadata": {
        "id": "QpHyclk1DLMi"
      }
    },
    {
      "cell_type": "markdown",
      "source": [
        "## 3. Diagramas UML"
      ],
      "metadata": {
        "id": "-SbtuwbdDQEI"
      }
    },
    {
      "cell_type": "markdown",
      "source": [
        "Prompt sugerido:\n",
        "\n",
        "```text\n",
        "### Objetivo:\n",
        "Visualizar la estructura y los casos de uso de QuickTask.\n",
        "\n",
        "---\n",
        "\n",
        "**Prompt sugerido:**\n",
        "\n",
        "Eres un **analista de sistemas** especializado en UML.\n",
        "\n",
        "A partir de la descripción de QuickTask, genera lo siguiente:\n",
        "\n",
        "1. Un **diagrama de casos de uso** en formato **Mermaid**, con los actores y sus interacciones.\n",
        "2. Un **diagrama de clases** también en formato **Mermaid**, mostrando atributos, métodos y relaciones.\n",
        "3. Una breve **explicación textual** del propósito de cada diagrama.\n",
        "\n",
        "Asegúrate de:\n",
        "- Usar sintaxis válida de Mermaid.\n",
        "- Usar nombres descriptivos (por ejemplo: `Task`, `TaskService`, `User`).\n",
        "- No inventar características no mencionadas en los requerimientos previos.\n",
        "\n",
        "Ejemplo de encabezado:\n",
        "\\`\\`\\`mermaid\n",
        "classDiagram\n",
        "...\n",
        "\\`\\`\\`\n",
        "\n",
        "```\n",
        "\n",
        "$$$$\n",
        "\n",
        "IA Recomendada:\n",
        "\n",
        "1. ChatGPT + Plantuml\n",
        "(Guia que puede ayudarte: https://www.youtube.com/watch?v=OVOtxFZion0)\n",
        "\n",
        "2. Lucidchart IA (Guia que puede ayudarte: https://www.youtube.com/watch?v=3wSESW5jlow)\n",
        "\n",
        "3. UMLMagician (Guia que puede ayudarte: https://umlmagician.com/docs-page#section-2)\n",
        "\n",
        "$$$$\n",
        "\n",
        "**Puedes Consultar un paper que analiza el rendimiento de ChatGPT en esta fase de desarrollo: https://dl.acm.org/doi/pdf/10.1109/ASE.2009.48**\n",
        "\n",
        "**Este otro paper estudia el uso de ChatGPT y Plantuml para la generación de diagramas: https://dl.ucsc.cmb.ac.lk/jspui/bitstream/123456789/4634/1/2018%20MCS%20047.pdf**\n",
        "\n"
      ],
      "metadata": {
        "id": "Up5OYCRrjtec"
      }
    },
    {
      "cell_type": "markdown",
      "source": [
        "## 4. Diseño de base de datos y arquitectura\n",
        "\n",
        "Prompt sugerido:\n",
        "\n",
        "```text\n",
        "### Objetivo:\n",
        "Diseñar la base de datos y la arquitectura general del sistema QuickTask.\n",
        "\n",
        "---\n",
        "\n",
        "**Prompt sugerido:**\n",
        "\n",
        "Actúa como un **diseñador de bases de datos y arquitecto de software**.\n",
        "\n",
        "A partir de los diagramas y requerimientos anteriores, diseña lo siguiente:\n",
        "\n",
        "1. **Modelo entidad-relación (E/R)** — descríbelo en texto o en formato Mermaid si es posible.\n",
        "2. **Esquema SQL** compatible con SQLite:\n",
        "   - Incluye `CREATE TABLE` con claves primarias y foráneas.\n",
        "   - Añade índices si es necesario.\n",
        "3. **Arquitectura lógica de la aplicación:**\n",
        "   - Capas (presentación, lógica, datos, etc.)\n",
        "   - Comunicación entre componentes.\n",
        "\n",
        "Usa Markdown con secciones claras:\n",
        "- Base de datos\n",
        "- Arquitectura del sistema\n",
        "\n",
        "Valida que el diseño sea coherente con los requerimientos.\n",
        "\n",
        "```\n",
        "\n",
        "\n",
        "$$$$\n",
        "\n",
        "IA Recomendada:\n",
        "\n",
        "1. Claude 3"
      ],
      "metadata": {
        "id": "KGLh8ehGDTRc"
      }
    },
    {
      "cell_type": "markdown",
      "source": [
        "## 5. Desarrollo del código"
      ],
      "metadata": {
        "id": "WErQrOQuDWAN"
      }
    },
    {
      "cell_type": "markdown",
      "source": [
        "Prompt sugerido:\n",
        "\n",
        "```text\n",
        "### Objetivo:\n",
        "Implementar un backend funcional mínimo para QuickTask.\n",
        "\n",
        "---\n",
        "\n",
        "**Prompt sugerido:**\n",
        "\n",
        "Eres un **desarrollador backend senior**.  \n",
        "Tu tarea es implementar una API REST sencilla en **Python (FastAPI)** para gestionar tareas.\n",
        "\n",
        "Requisitos:\n",
        "\n",
        "- Endpoints CRUD (`/tasks`):\n",
        "  - GET (listar todas)\n",
        "  - POST (crear)\n",
        "  - PUT/PATCH (actualizar)\n",
        "  - DELETE (eliminar)\n",
        "- Persistencia usando **SQLite** y **SQLAlchemy**.\n",
        "- Validación de datos con **Pydantic**.\n",
        "- Estructura de proyecto clara (`main.py`, `models.py`, `schemas.py`, `crud.py`).\n",
        "- Incluye ejemplos de llamadas con `curl`.\n",
        "\n",
        "Salida esperada:\n",
        "- Código bien comentado.\n",
        "- Bloques de código separados por archivos.\n",
        "- Markdown claro.\n",
        "\n",
        "No incluyas dependencias innecesarias.\n",
        "\n",
        "```\n",
        "\n",
        "$$$$\n",
        "\n",
        "IA Recomendada:\n",
        "\n",
        "- Cursor\n",
        "- GitHub Copilot\n",
        "- ChatGPT\n",
        "- Claude\n",
        "\n",
        "$$$$\n",
        "\n",
        "**Puedes consultar un paper que analiza la eficiencia de codigo hecho por humanos y inteligencias artificiales: https://www.mdpi.com/1999-4893/17/2/62**"
      ],
      "metadata": {
        "id": "2DzudJvHsU5o"
      }
    },
    {
      "cell_type": "markdown",
      "source": [
        "## 6. Pruebas unitarias"
      ],
      "metadata": {
        "id": "YiKE2RusDYuz"
      }
    },
    {
      "cell_type": "markdown",
      "source": [
        "Prompt sugerido:\n",
        "\n",
        "```text\n",
        "### Objetivo:\n",
        "Generar pruebas unitarias que verifiquen el correcto funcionamiento de la API.\n",
        "\n",
        "---\n",
        "\n",
        "**Prompt sugerido:**\n",
        "\n",
        "Actúa como un **QA Engineer especializado en pruebas automáticas**.\n",
        "\n",
        "Tu tarea es crear pruebas **unitarias y de integración básicas** para la API QuickTask.\n",
        "\n",
        "Requisitos:\n",
        "\n",
        "1. Usa `pytest`.\n",
        "2. Cubre al menos:\n",
        "   - Creación de una tarea.\n",
        "   - Lectura de tareas existentes.\n",
        "   - Actualización y eliminación.\n",
        "3. Crea una base de datos temporal (`sqlite:///:memory:`).\n",
        "4. Incluye fixtures y mocks cuando sea necesario.\n",
        "5. Explica brevemente cómo ejecutar las pruebas.\n",
        "\n",
        "Usa formato Markdown con bloques de código Python bien organizados.\n",
        "\n",
        "```\n",
        "\n",
        "$$$$\n",
        "\n",
        "IA Recomendada:\n",
        "- Cursor\n",
        "- ChatGPT\n",
        "- Gemini Assist\n",
        "- Claude"
      ],
      "metadata": {
        "id": "_vQypsoaHKyy"
      }
    },
    {
      "cell_type": "markdown",
      "source": [
        "## 7. Despliegue del sistema"
      ],
      "metadata": {
        "id": "QxtJMxFuDfi7"
      }
    },
    {
      "cell_type": "markdown",
      "source": [
        "Prompt sugerido:\n",
        "\n",
        "```text\n",
        "### Objetivo:\n",
        "Preparar el entorno de despliegue local de QuickTask.\n",
        "\n",
        "---\n",
        "\n",
        "**Prompt sugerido:**\n",
        "\n",
        "Eres un **DevOps Engineer**.  \n",
        "Tu tarea es crear los archivos necesarios para desplegar QuickTask localmente.\n",
        "\n",
        "Instrucciones:\n",
        "\n",
        "1. Genera un `Dockerfile` que:\n",
        "   - Use una imagen base de Python 3.11.\n",
        "   - Instale dependencias desde `requirements.txt`.\n",
        "   - Exponga el puerto 8000.\n",
        "   - Ejecute `uvicorn main:app --host 0.0.0.0 --port 8000`.\n",
        "\n",
        "2. Genera un `docker-compose.yaml` que:\n",
        "   - Monte el código local.\n",
        "   - Configure persistencia de SQLite en un volumen.\n",
        "   - Permita levantar el contenedor con `docker-compose up`.\n",
        "\n",
        "3. Explica en pasos cómo ejecutar la app y probarla.\n",
        "\n",
        "Formato: Markdown + bloques de código YAML y Dockerfile.\n",
        "\n",
        "```\n",
        "\n",
        "$$$$\n",
        "\n",
        "IA Recomendada:\n",
        "\n",
        "- Cursor\n",
        "- ChatGPT\n",
        "- Claude"
      ],
      "metadata": {
        "id": "tejn0YgwH8nt"
      }
    },
    {
      "cell_type": "markdown",
      "source": [
        "# Reflexiones finales"
      ],
      "metadata": {
        "id": "a8OpZjxHL45E"
      }
    },
    {
      "cell_type": "markdown",
      "source": [
        "1. ¿Lograste conseguir una aplicación funcional con los prompt sugeridos y al primer intento?\n",
        "\n",
        "2. ¿Cuantas veces tuviste que intervenir para ajustar el codigo?\n",
        "\n",
        "3. ¿Sientes que codeas mejor siendo asistido por la IA?\n",
        "\n",
        "4. ¿Con que IA te sentiste mas comodo trabajando y por que?"
      ],
      "metadata": {
        "id": "OBnBgNOqL-4J"
      }
    }
  ]
}